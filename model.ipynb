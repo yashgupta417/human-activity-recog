{
 "cells": [
  {
   "cell_type": "code",
   "execution_count": 8,
   "metadata": {},
   "outputs": [],
   "source": [
    "import numpy as np\n",
    "import pandas as pd\n",
    "import matplotlib.pyplot as plt\n",
    "\n",
    "train=pd.read_csv(r'C:\\Users\\HP\\Desktop\\ML\\Human-Activity-Recog\\csv_files\\train.csv')\n",
    "test=pd.read_csv(r'C:\\Users\\HP\\Desktop\\ML\\Human-Activity-Recog\\csv_files\\test.csv')"
   ]
  },
  {
   "cell_type": "code",
   "execution_count": 9,
   "metadata": {},
   "outputs": [],
   "source": [
    "X_train=train.drop(['subject','Activity','ActivityName'],axis=1)\n",
    "Y_train=train['ActivityName']\n",
    "\n",
    "X_test=test.drop(['subject','Activity','ActivityName'],axis=1)\n",
    "Y_test=test['ActivityName']"
   ]
  },
  {
   "cell_type": "code",
   "execution_count": 10,
   "metadata": {},
   "outputs": [],
   "source": [
    "from datetime import datetime\n",
    "\n",
    "def run_model(model):\n",
    "    result=dict()\n",
    "    \n",
    "    #training\n",
    "    print(\"Training........\")\n",
    "    t1=datetime.now()\n",
    "    model.fit(X_train,Y_train)\n",
    "    t2=datetime.now()\n",
    "    result['training_time']=t2-t1\n",
    "    print(\"Training Complete!  time taken=\"+str(t2-t1))\n",
    "    \n",
    "    #testing\n",
    "    print(\"Testing.......\")\n",
    "    t1=datetime.now()\n",
    "    pred=model.predict(X_test)\n",
    "    t2=datetime.now()\n",
    "    result['testing_time']=t2-t1\n",
    "    print(\"Testing Done!  time taken=\"+str(t2-t1))\n",
    "    \n",
    "    #Checking model performance\n",
    "    accuracy=metrics.accuracy_score(Y_test,pred)\n",
    "    result['accuracy']=accuracy\n",
    "    confusion_matrix=metrics.confusion_matrix(Y_test,pred)\n",
    "    result['confusion_matrix']=confusion_matrix\n",
    "    classification_report=metrics.classification_report(Y_test,pred)\n",
    "    result['classification_report']=classification_report\n",
    "    \n",
    "    print(\"accuracy: \",accuracy)\n",
    "    print(\"\\n\\nconfusion_matrix:\\n\",confusion_matrix)\n",
    "    print(\"\\n\\n\",classification_report)\n",
    "    \n",
    "    result['model']=model\n",
    "    \n",
    "    return result"
   ]
  },
  {
   "cell_type": "markdown",
   "metadata": {},
   "source": [
    "<h1>Using Logistic Regression</h1>"
   ]
  },
  {
   "cell_type": "code",
   "execution_count": null,
   "metadata": {},
   "outputs": [
    {
     "name": "stdout",
     "output_type": "stream",
     "text": [
      "Training........\n"
     ]
    }
   ],
   "source": [
    "from sklearn.linear_model import LogisticRegression\n",
    "from sklearn import metrics\n",
    "from sklearn.model_selection import GridSearchCV\n",
    "\n",
    "params={'C':[0.01,0.1,1,10,50,100],'penalty':['l1','l2']}\n",
    "lrmodel=GridSearchCV(LogisticRegression(solver='saga'),param_grid=params,cv=3,n_jobs=-1)\n",
    "lrmodel=run_model(lrmodel)\n",
    "\n"
   ]
  },
  {
   "cell_type": "code",
   "execution_count": null,
   "metadata": {},
   "outputs": [],
   "source": []
  }
 ],
 "metadata": {
  "kernelspec": {
   "display_name": "Python 3",
   "language": "python",
   "name": "python3"
  },
  "language_info": {
   "codemirror_mode": {
    "name": "ipython",
    "version": 3
   },
   "file_extension": ".py",
   "mimetype": "text/x-python",
   "name": "python",
   "nbconvert_exporter": "python",
   "pygments_lexer": "ipython3",
   "version": "3.7.3"
  }
 },
 "nbformat": 4,
 "nbformat_minor": 2
}
