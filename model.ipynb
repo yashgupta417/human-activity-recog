{
 "cells": [
  {
   "cell_type": "code",
   "execution_count": 8,
   "metadata": {},
   "outputs": [],
   "source": [
    "import numpy as np\n",
    "import pandas as pd\n",
    "import matplotlib.pyplot as plt\n",
    "\n",
    "train=pd.read_csv(r'C:\\Users\\HP\\Desktop\\ML\\Human-Activity-Recog\\csv_files\\train.csv')\n",
    "test=pd.read_csv(r'C:\\Users\\HP\\Desktop\\ML\\Human-Activity-Recog\\csv_files\\test.csv')"
   ]
  },
  {
   "cell_type": "code",
   "execution_count": 9,
   "metadata": {},
   "outputs": [],
   "source": [
    "X_train=train.drop(['subject','Activity','ActivityName'],axis=1)\n",
    "Y_train=train['ActivityName']\n",
    "\n",
    "X_test=test.drop(['subject','Activity','ActivityName'],axis=1)\n",
    "Y_test=test['ActivityName']"
   ]
  },
  {
   "cell_type": "code",
   "execution_count": 10,
   "metadata": {},
   "outputs": [],
   "source": [
    "from datetime import datetime\n",
    "\n",
    "def run_model(model):\n",
    "    result=dict()\n",
    "    \n",
    "    #training\n",
    "    print(\"Training........\")\n",
    "    t1=datetime.now()\n",
    "    model.fit(X_train,Y_train)\n",
    "    t2=datetime.now()\n",
    "    result['training_time']=t2-t1\n",
    "    print(\"Training Complete!  time taken=\"+str(t2-t1))\n",
    "    \n",
    "    #testing\n",
    "    print(\"Testing.......\")\n",
    "    t1=datetime.now()\n",
    "    pred=model.predict(X_test)\n",
    "    t2=datetime.now()\n",
    "    result['testing_time']=t2-t1\n",
    "    print(\"Testing Done!  time taken=\"+str(t2-t1))\n",
    "    \n",
    "    #Checking model performance\n",
    "    accuracy=metrics.accuracy_score(Y_test,pred)\n",
    "    result['accuracy']=accuracy\n",
    "    confusion_matrix=metrics.confusion_matrix(Y_test,pred)\n",
    "    result['confusion_matrix']=confusion_matrix\n",
    "    classification_report=metrics.classification_report(Y_test,pred)\n",
    "    result['classification_report']=classification_report\n",
    "    \n",
    "    print(\"accuracy: \",accuracy)\n",
    "    print(\"\\n\\nconfusion_matrix:\\n\",confusion_matrix)\n",
    "    print(\"\\n\\n\",classification_report)\n",
    "    \n",
    "    result['model']=model\n",
    "    \n",
    "    return result"
   ]
  },
  {
   "cell_type": "markdown",
   "metadata": {},
   "source": [
    "<h1>Using Logistic Regression</h1>"
   ]
  },
  {
   "cell_type": "code",
   "execution_count": 18,
   "metadata": {},
   "outputs": [
    {
     "name": "stdout",
     "output_type": "stream",
     "text": [
      "Training........\n"
     ]
    },
    {
     "name": "stderr",
     "output_type": "stream",
     "text": [
      "C:\\Users\\HP\\Anaconda3\\lib\\site-packages\\sklearn\\linear_model\\logistic.py:433: FutureWarning: Default solver will be changed to 'lbfgs' in 0.22. Specify a solver to silence this warning.\n",
      "  FutureWarning)\n",
      "C:\\Users\\HP\\Anaconda3\\lib\\site-packages\\sklearn\\linear_model\\logistic.py:460: FutureWarning: Default multi_class will be changed to 'auto' in 0.22. Specify the multi_class option to silence this warning.\n",
      "  \"this warning.\", FutureWarning)\n"
     ]
    },
    {
     "name": "stdout",
     "output_type": "stream",
     "text": [
      "Training Complete!  time taken=0:02:39.278888\n",
      "Testing.......\n",
      "Testing Done!  time taken=0:00:00.015625\n",
      "accuracy:  0.9619952494061758\n",
      "\n",
      "\n",
      "confusion_matrix:\n",
      " [[537   0   0   0   0   0]\n",
      " [  2 426  59   0   0   4]\n",
      " [  0  12 519   1   0   0]\n",
      " [  0   0   0 495   1   0]\n",
      " [  0   0   0   3 410   7]\n",
      " [  0   0   0  23   0 448]]\n",
      "\n",
      "\n",
      "                     precision    recall  f1-score   support\n",
      "\n",
      "            LAYING       1.00      1.00      1.00       537\n",
      "           SITTING       0.97      0.87      0.92       491\n",
      "          STANDING       0.90      0.98      0.94       532\n",
      "           WALKING       0.95      1.00      0.97       496\n",
      "WALKING_DOWNSTAIRS       1.00      0.98      0.99       420\n",
      "  WALKING_UPSTAIRS       0.98      0.95      0.96       471\n",
      "\n",
      "         micro avg       0.96      0.96      0.96      2947\n",
      "         macro avg       0.96      0.96      0.96      2947\n",
      "      weighted avg       0.96      0.96      0.96      2947\n",
      "\n"
     ]
    }
   ],
   "source": [
    "from sklearn.linear_model import LogisticRegression\n",
    "from sklearn import metrics\n",
    "from sklearn.model_selection import GridSearchCV\n",
    "\n",
    "params={'C':[0.01,0.1,1,10,50,100],'penalty':['l1','l2']}\n",
    "lrgrid=GridSearchCV(LogisticRegression(),param_grid=params,cv=3,n_jobs=-1)\n",
    "lrresult=run_model(lrgrid)\n"
   ]
  },
  {
   "cell_type": "code",
   "execution_count": 21,
   "metadata": {},
   "outputs": [
    {
     "name": "stdout",
     "output_type": "stream",
     "text": [
      "\n",
      "best params:\n",
      " {'C': 50, 'penalty': 'l2'}\n",
      "\n",
      "best score:\n",
      " 0.9450489662676823\n"
     ]
    }
   ],
   "source": [
    "lrmodel=lrresult['model']\n",
    "print(\"\\nbest params:\\n\",lrmodel.best_params_)\n",
    "print(\"\\nbest score:\\n\",lrmodel.best_score_)"
   ]
  },
  {
   "cell_type": "markdown",
   "metadata": {},
   "source": [
    "<h1>Using KNN</h1>"
   ]
  },
  {
   "cell_type": "code",
   "execution_count": 26,
   "metadata": {},
   "outputs": [
    {
     "name": "stdout",
     "output_type": "stream",
     "text": [
      "Training........\n",
      "Training Complete!  time taken=0:03:44.895357\n",
      "Testing.......\n",
      "Testing Done!  time taken=0:00:38.027739\n",
      "accuracy:  0.9053274516457415\n",
      "\n",
      "\n",
      "confusion_matrix:\n",
      " [[534   2   1   0   0   0]\n",
      " [  0 394  93   0   0   4]\n",
      " [  0  37 495   0   0   0]\n",
      " [  0   0   0 485  10   1]\n",
      " [  0   0   0  47 333  40]\n",
      " [  0   0   0  38   6 427]]\n",
      "\n",
      "\n",
      "                     precision    recall  f1-score   support\n",
      "\n",
      "            LAYING       1.00      0.99      1.00       537\n",
      "           SITTING       0.91      0.80      0.85       491\n",
      "          STANDING       0.84      0.93      0.88       532\n",
      "           WALKING       0.85      0.98      0.91       496\n",
      "WALKING_DOWNSTAIRS       0.95      0.79      0.87       420\n",
      "  WALKING_UPSTAIRS       0.90      0.91      0.91       471\n",
      "\n",
      "         micro avg       0.91      0.91      0.91      2947\n",
      "         macro avg       0.91      0.90      0.90      2947\n",
      "      weighted avg       0.91      0.91      0.90      2947\n",
      "\n"
     ]
    }
   ],
   "source": [
    "from sklearn.neighbors import KNeighborsClassifier\n",
    "params={'n_neighbors':[3,5,7,9]}\n",
    "knngrid=GridSearchCV(KNeighborsClassifier(),param_grid=params,cv=3,n_jobs=-1)\n",
    "knnresult=run_model(knngrid)"
   ]
  },
  {
   "cell_type": "code",
   "execution_count": 27,
   "metadata": {},
   "outputs": [
    {
     "name": "stdout",
     "output_type": "stream",
     "text": [
      "\n",
      "best params:\n",
      " {'n_neighbors': 9}\n",
      "\n",
      "best score:\n",
      " 0.8930903155603918\n"
     ]
    }
   ],
   "source": [
    "knnmodel=knnresult['model']\n",
    "print(\"\\nbest params:\\n\",knnmodel.best_params_)\n",
    "print(\"\\nbest score:\\n\",knnmodel.best_score_)"
   ]
  },
  {
   "cell_type": "markdown",
   "metadata": {},
   "source": [
    "<h1>Using Gaussian NB</h1>"
   ]
  },
  {
   "cell_type": "code",
   "execution_count": 29,
   "metadata": {},
   "outputs": [
    {
     "name": "stdout",
     "output_type": "stream",
     "text": [
      "Training........\n",
      "Training Complete!  time taken=0:00:05.985929\n",
      "Testing.......\n",
      "Testing Done!  time taken=0:00:00.323043\n",
      "accuracy:  0.8004750593824228\n",
      "\n",
      "\n",
      "confusion_matrix:\n",
      " [[474  60   0   0   0   3]\n",
      " [  5 260 219   0   0   7]\n",
      " [  6  11 501   0   0  14]\n",
      " [  0   0   0 416  42  38]\n",
      " [  0   0   0  80 257  83]\n",
      " [  0   0   0   9  11 451]]\n",
      "\n",
      "\n",
      "                     precision    recall  f1-score   support\n",
      "\n",
      "            LAYING       0.98      0.88      0.93       537\n",
      "           SITTING       0.79      0.53      0.63       491\n",
      "          STANDING       0.70      0.94      0.80       532\n",
      "           WALKING       0.82      0.84      0.83       496\n",
      "WALKING_DOWNSTAIRS       0.83      0.61      0.70       420\n",
      "  WALKING_UPSTAIRS       0.76      0.96      0.85       471\n",
      "\n",
      "         micro avg       0.80      0.80      0.80      2947\n",
      "         macro avg       0.81      0.79      0.79      2947\n",
      "      weighted avg       0.81      0.80      0.79      2947\n",
      "\n"
     ]
    }
   ],
   "source": [
    "from sklearn.naive_bayes import GaussianNB\n",
    "params={'var_smoothing':[1e-11,1e-9,1e-7,1e-5]}\n",
    "nbgrid=GridSearchCV(GaussianNB(),param_grid=params,cv=3,n_jobs=-1)\n",
    "nbresult=run_model(nbgrid)"
   ]
  },
  {
   "cell_type": "code",
   "execution_count": 30,
   "metadata": {},
   "outputs": [
    {
     "name": "stdout",
     "output_type": "stream",
     "text": [
      "\n",
      "best params:\n",
      " {'var_smoothing': 1e-05}\n",
      "\n",
      "best score:\n",
      " 0.7616974972796517\n"
     ]
    }
   ],
   "source": [
    "nbmodel=nbresult['model']\n",
    "print(\"\\nbest params:\\n\",nbmodel.best_params_)\n",
    "print(\"\\nbest score:\\n\",nbmodel.best_score_)"
   ]
  },
  {
   "cell_type": "markdown",
   "metadata": {},
   "source": [
    "<h1>Using Linear SVM</h1>"
   ]
  },
  {
   "cell_type": "code",
   "execution_count": 34,
   "metadata": {},
   "outputs": [
    {
     "name": "stdout",
     "output_type": "stream",
     "text": [
      "Training........\n"
     ]
    },
    {
     "name": "stderr",
     "output_type": "stream",
     "text": [
      "C:\\Users\\HP\\Anaconda3\\lib\\site-packages\\sklearn\\svm\\base.py:931: ConvergenceWarning: Liblinear failed to converge, increase the number of iterations.\n",
      "  \"the number of iterations.\", ConvergenceWarning)\n"
     ]
    },
    {
     "name": "stdout",
     "output_type": "stream",
     "text": [
      "Training Complete!  time taken=0:00:38.412245\n",
      "Testing.......\n",
      "Testing Done!  time taken=0:00:00.015983\n",
      "accuracy:  0.9694604682728198\n",
      "\n",
      "\n",
      "confusion_matrix:\n",
      " [[537   0   0   0   0   0]\n",
      " [  2 440  46   0   0   3]\n",
      " [  0  14 517   1   0   0]\n",
      " [  0   0   0 496   0   0]\n",
      " [  0   0   0   2 413   5]\n",
      " [  0   0   0  17   0 454]]\n",
      "\n",
      "\n",
      "                     precision    recall  f1-score   support\n",
      "\n",
      "            LAYING       1.00      1.00      1.00       537\n",
      "           SITTING       0.97      0.90      0.93       491\n",
      "          STANDING       0.92      0.97      0.94       532\n",
      "           WALKING       0.96      1.00      0.98       496\n",
      "WALKING_DOWNSTAIRS       1.00      0.98      0.99       420\n",
      "  WALKING_UPSTAIRS       0.98      0.96      0.97       471\n",
      "\n",
      "         micro avg       0.97      0.97      0.97      2947\n",
      "         macro avg       0.97      0.97      0.97      2947\n",
      "      weighted avg       0.97      0.97      0.97      2947\n",
      "\n"
     ]
    }
   ],
   "source": [
    "from sklearn.svm import LinearSVC\n",
    "params={'C':[0.01,0.1,1,10,100]}\n",
    "lsvmgrid=GridSearchCV(LinearSVC(),param_grid=params,cv=3,n_jobs=-1)\n",
    "lsvmresult=run_model(lsvmgrid)"
   ]
  },
  {
   "cell_type": "code",
   "execution_count": null,
   "metadata": {},
   "outputs": [],
   "source": [
    "lsvmmodel=lsvmresult['model']\n",
    "print(\"\\nbest params:\\n\",lsvmmodel.best_params_)\n",
    "print(\"\\nbest score:\\n\",lsvmmodel.best_score_)"
   ]
  },
  {
   "cell_type": "markdown",
   "metadata": {},
   "source": [
    "<h1>Using kernel SVM</h1>"
   ]
  },
  {
   "cell_type": "code",
   "execution_count": 35,
   "metadata": {},
   "outputs": [
    {
     "name": "stdout",
     "output_type": "stream",
     "text": [
      "Training........\n"
     ]
    },
    {
     "name": "stderr",
     "output_type": "stream",
     "text": [
      "C:\\Users\\HP\\Anaconda3\\lib\\site-packages\\sklearn\\svm\\base.py:196: FutureWarning: The default value of gamma will change from 'auto' to 'scale' in version 0.22 to account better for unscaled features. Set gamma explicitly to 'auto' or 'scale' to avoid this warning.\n",
      "  \"avoid this warning.\", FutureWarning)\n"
     ]
    },
    {
     "name": "stdout",
     "output_type": "stream",
     "text": [
      "Training Complete!  time taken=0:03:11.819579\n",
      "Testing.......\n",
      "Testing Done!  time taken=0:00:04.613070\n",
      "accuracy:  0.9647098744485918\n",
      "\n",
      "\n",
      "confusion_matrix:\n",
      " [[537   0   0   0   0   0]\n",
      " [  0 437  52   0   0   2]\n",
      " [  0  14 518   0   0   0]\n",
      " [  0   0   0 493   3   0]\n",
      " [  0   0   0   4 404  12]\n",
      " [  0   0   0  17   0 454]]\n",
      "\n",
      "\n",
      "                     precision    recall  f1-score   support\n",
      "\n",
      "            LAYING       1.00      1.00      1.00       537\n",
      "           SITTING       0.97      0.89      0.93       491\n",
      "          STANDING       0.91      0.97      0.94       532\n",
      "           WALKING       0.96      0.99      0.98       496\n",
      "WALKING_DOWNSTAIRS       0.99      0.96      0.98       420\n",
      "  WALKING_UPSTAIRS       0.97      0.96      0.97       471\n",
      "\n",
      "         micro avg       0.96      0.96      0.96      2947\n",
      "         macro avg       0.97      0.96      0.96      2947\n",
      "      weighted avg       0.97      0.96      0.96      2947\n",
      "\n"
     ]
    }
   ],
   "source": [
    "from sklearn.svm import SVC\n",
    "params={'C':[0.01,0.1,1,10,100]}\n",
    "ksvmgrid=GridSearchCV(SVC(kernel='rbf'),param_grid=params,cv=3,n_jobs=-1)\n",
    "ksvmresult=run_model(ksvmgrid)"
   ]
  },
  {
   "cell_type": "code",
   "execution_count": 36,
   "metadata": {},
   "outputs": [
    {
     "name": "stdout",
     "output_type": "stream",
     "text": [
      "\n",
      "best params:\n",
      " {'C': 100}\n",
      "\n",
      "best score:\n",
      " 0.9458650707290533\n"
     ]
    }
   ],
   "source": [
    "ksvmmodel=ksvmresult['model']\n",
    "print(\"\\nbest params:\\n\",ksvmmodel.best_params_)\n",
    "print(\"\\nbest score:\\n\",ksvmmodel.best_score_)"
   ]
  },
  {
   "cell_type": "markdown",
   "metadata": {},
   "source": [
    "<h1>Using Decision Tree</h1>"
   ]
  },
  {
   "cell_type": "code",
   "execution_count": 40,
   "metadata": {},
   "outputs": [
    {
     "name": "stdout",
     "output_type": "stream",
     "text": [
      "Training........\n",
      "Training Complete!  time taken=0:00:11.774497\n",
      "Testing.......\n",
      "Testing Done!  time taken=0:00:00.020330\n",
      "accuracy:  0.826942653545979\n",
      "\n",
      "\n",
      "confusion_matrix:\n",
      " [[537   0   0   0   0   0]\n",
      " [  0 379 111   0   0   1]\n",
      " [  0  88 436   3   2   3]\n",
      " [  0   0   0 433  50  13]\n",
      " [  0   0   0  40 319  61]\n",
      " [  0   0   0  90  48 333]]\n",
      "\n",
      "\n",
      "                     precision    recall  f1-score   support\n",
      "\n",
      "            LAYING       1.00      1.00      1.00       537\n",
      "           SITTING       0.81      0.77      0.79       491\n",
      "          STANDING       0.80      0.82      0.81       532\n",
      "           WALKING       0.77      0.87      0.82       496\n",
      "WALKING_DOWNSTAIRS       0.76      0.76      0.76       420\n",
      "  WALKING_UPSTAIRS       0.81      0.71      0.76       471\n",
      "\n",
      "         micro avg       0.83      0.83      0.83      2947\n",
      "         macro avg       0.82      0.82      0.82      2947\n",
      "      weighted avg       0.83      0.83      0.83      2947\n",
      "\n"
     ]
    }
   ],
   "source": [
    "from sklearn.tree import DecisionTreeClassifier\n",
    "params={'max_depth':[10,15,20,25,30,50]}\n",
    "dtgrid=GridSearchCV(DecisionTreeClassifier(criterion='gini',max_features='sqrt'),param_grid=params,cv=3,n_jobs=-1)\n",
    "dtresult=run_model(dtgrid)"
   ]
  },
  {
   "cell_type": "code",
   "execution_count": 41,
   "metadata": {},
   "outputs": [
    {
     "name": "stdout",
     "output_type": "stream",
     "text": [
      "\n",
      "best params:\n",
      " {'max_depth': 15}\n",
      "\n",
      "best score:\n",
      " 0.8290261153427638\n"
     ]
    }
   ],
   "source": [
    "dtmmodel=dtresult['model']\n",
    "print(\"\\nbest params:\\n\",dtmmodel.best_params_)\n",
    "print(\"\\nbest score:\\n\",dtmmodel.best_score_)"
   ]
  },
  {
   "cell_type": "markdown",
   "metadata": {},
   "source": [
    "<h1>Using Random Forest</h1>"
   ]
  },
  {
   "cell_type": "code",
   "execution_count": 43,
   "metadata": {},
   "outputs": [
    {
     "name": "stdout",
     "output_type": "stream",
     "text": [
      "Training........\n",
      "Training Complete!  time taken=0:01:05.416793\n",
      "Testing.......\n",
      "Testing Done!  time taken=0:00:00.889675\n",
      "accuracy:  0.9280624363759755\n",
      "\n",
      "\n",
      "confusion_matrix:\n",
      " [[537   0   0   0   0   0]\n",
      " [  0 439  52   0   0   0]\n",
      " [  0  45 487   0   0   0]\n",
      " [  0   0   0 482   8   6]\n",
      " [  0   0   0  19 356  45]\n",
      " [  0   0   0  31   6 434]]\n",
      "\n",
      "\n",
      "                     precision    recall  f1-score   support\n",
      "\n",
      "            LAYING       1.00      1.00      1.00       537\n",
      "           SITTING       0.91      0.89      0.90       491\n",
      "          STANDING       0.90      0.92      0.91       532\n",
      "           WALKING       0.91      0.97      0.94       496\n",
      "WALKING_DOWNSTAIRS       0.96      0.85      0.90       420\n",
      "  WALKING_UPSTAIRS       0.89      0.92      0.91       471\n",
      "\n",
      "         micro avg       0.93      0.93      0.93      2947\n",
      "         macro avg       0.93      0.93      0.93      2947\n",
      "      weighted avg       0.93      0.93      0.93      2947\n",
      "\n"
     ]
    }
   ],
   "source": [
    "from sklearn.ensemble import RandomForestClassifier\n",
    "\n",
    "rfmodel=RandomForestClassifier(n_estimators=1000,n_jobs=-1)\n",
    "rfresult=run_model(rfmodel)\n",
    "rfmodel=rfresult['model']"
   ]
  },
  {
   "cell_type": "markdown",
   "metadata": {},
   "source": [
    "<h1>Using Gradient Boosting</h1>"
   ]
  },
  {
   "cell_type": "code",
   "execution_count": null,
   "metadata": {},
   "outputs": [],
   "source": [
    "from sklearn.ensemble import GradientBoostingClassifier\n",
    "params={'learning_rate':[0.001,0.01,0.1,0.5,1],'n_estimators':[100]}\n",
    "gbgrid=GridSearchCV(GradientBoostingClassifier(),param_grid=params,cv=3,n_jobs=-1)\n",
    "gbresult=run_model(gbgrid)"
   ]
  },
  {
   "cell_type": "code",
   "execution_count": null,
   "metadata": {},
   "outputs": [],
   "source": [
    "gbmmodel=gbresult['model']\n",
    "print(\"\\nbest params:\\n\",gbmmodel.best_params_)\n",
    "print(\"\\nbest score:\\n\",gbmmodel.best_score_)"
   ]
  },
  {
   "cell_type": "markdown",
   "metadata": {},
   "source": [
    "<br><br><br>\n",
    "<h1>Comparing all models</h1>"
   ]
  },
  {
   "cell_type": "code",
   "execution_count": null,
   "metadata": {},
   "outputs": [],
   "source": [
    "print(\"Model Name\\tTraining Time\\tAccuracy\")\n",
    "results=[lrresult,knnresult,nbresult,lsvmresult,ksvmresult,dtresult,rfresult,gbresult]\n",
    "model_name=['Logistic Regression','KNN','Gaussian NB','Linear SVM','Kernel SVM','Decision Tree','Random Forest','Gradient Boosting']\n",
    "for r,m in results,model_name:\n",
    "    print(m+\":\\t\"r['training_time']+\"\\t\"+r['accuracy']*100+\"%\")"
   ]
  }
 ],
 "metadata": {
  "kernelspec": {
   "display_name": "Python 3",
   "language": "python",
   "name": "python3"
  },
  "language_info": {
   "codemirror_mode": {
    "name": "ipython",
    "version": 3
   },
   "file_extension": ".py",
   "mimetype": "text/x-python",
   "name": "python",
   "nbconvert_exporter": "python",
   "pygments_lexer": "ipython3",
   "version": "3.7.3"
  }
 },
 "nbformat": 4,
 "nbformat_minor": 2
}
