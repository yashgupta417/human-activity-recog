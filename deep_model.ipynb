{
 "cells": [
  {
   "cell_type": "code",
   "execution_count": 13,
   "metadata": {},
   "outputs": [],
   "source": [
    "import numpy as np\n",
    "import pandas as pd\n",
    "\n",
    "signals=[\n",
    "    'body_acc_x_',\n",
    "    'body_acc_y_',\n",
    "    'body_acc_z_',\n",
    "    'body_gyro_x_',\n",
    "    'body_gyro_y_',\n",
    "    'body_gyro_z_',\n",
    "    'total_acc_x_',\n",
    "    'total_acc_y_',\n",
    "    'total_acc_z_',\n",
    "]"
   ]
  },
  {
   "cell_type": "code",
   "execution_count": 57,
   "metadata": {},
   "outputs": [],
   "source": [
    "def read_signals(t):\n",
    "    X=[]\n",
    "    for signal in signals:\n",
    "        filename=f'C:/Users/HP/Desktop/ML/HAR/UCI_HAR_Dataset/{t}/Inertial Signals/{signal}{t}.txt'\n",
    "        X.append(pd.read_csv(filename,delim_whitespace=True,header=None).to_numpy())\n",
    "\n",
    "    return np.transpose(X,(1,2,0))\n",
    "\n",
    "def read_y(t):\n",
    "    filename=f'C:/Users/HP/Desktop/ML/HAR/UCI_HAR_Dataset/{t}/y_{t}.txt'\n",
    "    y=pd.read_csv(filename,delim_whitespace=True,header=None).to_numpy()\n",
    "    \n",
    "    y=np.transpose(y)[0]\n",
    "    \n",
    "    return pd.get_dummies(y).to_numpy()"
   ]
  },
  {
   "cell_type": "code",
   "execution_count": 18,
   "metadata": {},
   "outputs": [
    {
     "name": "stdout",
     "output_type": "stream",
     "text": [
      "(7352, 128, 9)\n",
      "(2947, 128, 9)\n"
     ]
    }
   ],
   "source": [
    "X_train=read_signals('train')\n",
    "X_test=read_signals('test')\n",
    "\n",
    "print(np.shape(X_train))\n",
    "print(np.shape(X_test))"
   ]
  },
  {
   "cell_type": "code",
   "execution_count": 62,
   "metadata": {},
   "outputs": [
    {
     "name": "stdout",
     "output_type": "stream",
     "text": [
      "(7352, 6)\n",
      "(2947, 6)\n"
     ]
    }
   ],
   "source": [
    "Y_train=read_y('train')\n",
    "Y_test=read_y('test')\n",
    "\n",
    "print(np.shape(Y_train))\n",
    "print(np.shape(Y_test))"
   ]
  },
  {
   "cell_type": "code",
   "execution_count": 76,
   "metadata": {},
   "outputs": [],
   "source": [
    "from keras.models import Sequential\n",
    "from keras.layers import LSTM,Dense,Dropout"
   ]
  },
  {
   "cell_type": "code",
   "execution_count": 77,
   "metadata": {},
   "outputs": [],
   "source": [
    "epochs=30\n",
    "batch_size=128\n",
    "input_shape=(len(X_train[0]),len(X_train[0][0]))"
   ]
  },
  {
   "cell_type": "code",
   "execution_count": 78,
   "metadata": {},
   "outputs": [
    {
     "name": "stdout",
     "output_type": "stream",
     "text": [
      "Model: \"sequential_6\"\n",
      "_________________________________________________________________\n",
      "Layer (type)                 Output Shape              Param #   \n",
      "=================================================================\n",
      "lstm_7 (LSTM)                (None, 128, 100)          44000     \n",
      "_________________________________________________________________\n",
      "lstm_8 (LSTM)                (None, 100)               80400     \n",
      "_________________________________________________________________\n",
      "dropout_2 (Dropout)          (None, 100)               0         \n",
      "_________________________________________________________________\n",
      "dense_4 (Dense)              (None, 6)                 606       \n",
      "=================================================================\n",
      "Total params: 125,006\n",
      "Trainable params: 125,006\n",
      "Non-trainable params: 0\n",
      "_________________________________________________________________\n"
     ]
    }
   ],
   "source": [
    "model=Sequential()\n",
    "model.add(LSTM(100,input_shape=input_shape,return_sequences=True))\n",
    "model.add(LSTM(100))\n",
    "model.add(Dropout(0.5))\n",
    "model.add(Dense(6,activation='sigmoid'))\n",
    "model.compile(loss='categorical_crossentropy',optimizer='adam',metrics=['accuracy'])\n",
    "model.summary()"
   ]
  },
  {
   "cell_type": "code",
   "execution_count": 79,
   "metadata": {},
   "outputs": [
    {
     "name": "stdout",
     "output_type": "stream",
     "text": [
      "Train on 7352 samples, validate on 2947 samples\n",
      "Epoch 1/30\n",
      "7352/7352 [==============================] - 41s 6ms/step - loss: 1.3120 - accuracy: 0.4604 - val_loss: 1.1196 - val_accuracy: 0.5226\n",
      "Epoch 2/30\n",
      "7352/7352 [==============================] - 40s 5ms/step - loss: 0.8465 - accuracy: 0.6396 - val_loss: 0.8147 - val_accuracy: 0.6688\n",
      "Epoch 3/30\n",
      "7352/7352 [==============================] - 41s 6ms/step - loss: 0.7285 - accuracy: 0.6838 - val_loss: 0.7183 - val_accuracy: 0.7011\n",
      "Epoch 4/30\n",
      "7352/7352 [==============================] - 41s 6ms/step - loss: 0.5911 - accuracy: 0.7473 - val_loss: 0.8230 - val_accuracy: 0.6549\n",
      "Epoch 5/30\n",
      "7352/7352 [==============================] - 42s 6ms/step - loss: 0.5537 - accuracy: 0.7643 - val_loss: 0.6231 - val_accuracy: 0.7441\n",
      "Epoch 6/30\n",
      "7352/7352 [==============================] - 42s 6ms/step - loss: 0.4465 - accuracy: 0.8014 - val_loss: 0.5040 - val_accuracy: 0.7947\n",
      "Epoch 7/30\n",
      "7352/7352 [==============================] - 43s 6ms/step - loss: 0.3886 - accuracy: 0.8222 - val_loss: 0.4868 - val_accuracy: 0.8361\n",
      "Epoch 8/30\n",
      "7352/7352 [==============================] - 43s 6ms/step - loss: 0.5425 - accuracy: 0.7956 - val_loss: 0.4518 - val_accuracy: 0.8500\n",
      "Epoch 9/30\n",
      "7352/7352 [==============================] - 42s 6ms/step - loss: 0.3348 - accuracy: 0.9000 - val_loss: 0.5075 - val_accuracy: 0.8361\n",
      "Epoch 10/30\n",
      "7352/7352 [==============================] - 43s 6ms/step - loss: 0.2567 - accuracy: 0.9211 - val_loss: 0.2969 - val_accuracy: 0.8962\n",
      "Epoch 11/30\n",
      "7352/7352 [==============================] - 42s 6ms/step - loss: 0.1860 - accuracy: 0.9402 - val_loss: 0.2917 - val_accuracy: 0.9002\n",
      "Epoch 12/30\n",
      "7352/7352 [==============================] - 42s 6ms/step - loss: 0.2279 - accuracy: 0.9230 - val_loss: 0.4322 - val_accuracy: 0.8639\n",
      "Epoch 13/30\n",
      "7352/7352 [==============================] - 42s 6ms/step - loss: 0.2029 - accuracy: 0.9304 - val_loss: 0.3435 - val_accuracy: 0.8907\n",
      "Epoch 14/30\n",
      "7352/7352 [==============================] - 43s 6ms/step - loss: 0.1641 - accuracy: 0.9374 - val_loss: 0.3810 - val_accuracy: 0.8938\n",
      "Epoch 15/30\n",
      "7352/7352 [==============================] - 42s 6ms/step - loss: 0.1462 - accuracy: 0.9460 - val_loss: 0.3419 - val_accuracy: 0.9006\n",
      "Epoch 16/30\n",
      "7352/7352 [==============================] - 42s 6ms/step - loss: 0.1439 - accuracy: 0.9471 - val_loss: 0.3099 - val_accuracy: 0.9036\n",
      "Epoch 17/30\n",
      "7352/7352 [==============================] - 43s 6ms/step - loss: 0.1267 - accuracy: 0.9493 - val_loss: 0.2969 - val_accuracy: 0.9036\n",
      "Epoch 18/30\n",
      "7352/7352 [==============================] - 42s 6ms/step - loss: 0.1767 - accuracy: 0.9397 - val_loss: 0.2954 - val_accuracy: 0.8948\n",
      "Epoch 19/30\n",
      "7352/7352 [==============================] - 42s 6ms/step - loss: 0.1589 - accuracy: 0.9414 - val_loss: 0.3537 - val_accuracy: 0.8833\n",
      "Epoch 20/30\n",
      "7352/7352 [==============================] - 43s 6ms/step - loss: 0.1644 - accuracy: 0.9399 - val_loss: 0.3183 - val_accuracy: 0.9080\n",
      "Epoch 21/30\n",
      "7352/7352 [==============================] - 42s 6ms/step - loss: 0.1328 - accuracy: 0.9505 - val_loss: 0.2906 - val_accuracy: 0.9070\n",
      "Epoch 22/30\n",
      "7352/7352 [==============================] - 42s 6ms/step - loss: 0.1269 - accuracy: 0.9461 - val_loss: 0.3053 - val_accuracy: 0.9087\n",
      "Epoch 23/30\n",
      "7352/7352 [==============================] - 42s 6ms/step - loss: 0.1205 - accuracy: 0.9527 - val_loss: 0.3087 - val_accuracy: 0.9121\n",
      "Epoch 24/30\n",
      "7352/7352 [==============================] - 42s 6ms/step - loss: 0.1653 - accuracy: 0.9385 - val_loss: 0.3100 - val_accuracy: 0.9108\n",
      "Epoch 25/30\n",
      "7352/7352 [==============================] - 43s 6ms/step - loss: 0.1856 - accuracy: 0.9344 - val_loss: 0.3680 - val_accuracy: 0.8863\n",
      "Epoch 26/30\n",
      "7352/7352 [==============================] - 44s 6ms/step - loss: 0.2028 - accuracy: 0.9279 - val_loss: 0.3869 - val_accuracy: 0.8761\n",
      "Epoch 27/30\n",
      "7352/7352 [==============================] - 43s 6ms/step - loss: 0.1375 - accuracy: 0.9446 - val_loss: 0.3374 - val_accuracy: 0.8996\n",
      "Epoch 28/30\n",
      "7352/7352 [==============================] - 43s 6ms/step - loss: 0.1317 - accuracy: 0.9504 - val_loss: 0.3534 - val_accuracy: 0.9019\n",
      "Epoch 29/30\n",
      "7352/7352 [==============================] - 43s 6ms/step - loss: 0.1802 - accuracy: 0.9358 - val_loss: 0.3304 - val_accuracy: 0.9023\n",
      "Epoch 30/30\n",
      "7352/7352 [==============================] - 42s 6ms/step - loss: 0.1389 - accuracy: 0.9478 - val_loss: 0.3152 - val_accuracy: 0.9145\n"
     ]
    }
   ],
   "source": [
    "history=model.fit(X_train,Y_train,batch_size=batch_size,epochs=epochs,validation_data=(X_test,Y_test))"
   ]
  },
  {
   "cell_type": "code",
   "execution_count": 81,
   "metadata": {},
   "outputs": [
    {
     "data": {
      "image/png": "[encoded data removed]",
      "text/plain": [
       "<Figure size 432x288 with 1 Axes>"
      ]
     },
     "metadata": {
      "needs_background": "light"
     },
     "output_type": "display_data"
    }
   ],
   "source": [
    "import matplotlib.pyplot as plt\n",
    "fig,ax=plt.subplots(1,1)\n",
    "ax.set_xlabel('epoch')\n",
    "ax.set_ylabel('loss')\n",
    "\n",
    "x=list(range(1,30+1))\n",
    "\n",
    "vy=history.history['val_loss']\n",
    "ty=history.history['loss']\n",
    "\n",
    "def plt_dynamic(x,y,y_1,ax,colors=['b']):\n",
    "    ax.plot(x,y,'b',label='Train loss')\n",
    "    ax.plot(x,y_1,'r',label='Test loss')\n",
    "    plt.legend()\n",
    "    fig.canvas.draw()\n",
    "plt_dynamic(x,vy,ty,ax)"
   ]
  },
  {
   "cell_type": "code",
   "execution_count": 83,
   "metadata": {},
   "outputs": [
    {
     "name": "stdout",
     "output_type": "stream",
     "text": [
      "accuracy 91.44893288612366\n"
     ]
    }
   ],
   "source": [
    "scores=model.evaluate(X_test,Y_test,verbose=0,batch_size=4096)\n",
    "print(\"accuracy\",scores[1]*100)"
   ]
  },
  {
   "cell_type": "code",
   "execution_count": 91,
   "metadata": {},
   "outputs": [
    {
     "name": "stdout",
     "output_type": "stream",
     "text": [
      "Confusion Matrix\n",
      "\n",
      " [[465  21   9   0   1   0]\n",
      " [  5 462   1   3   0   0]\n",
      " [  0   0 420   0   0   0]\n",
      " [  0   2   0 385 103   1]\n",
      " [  0   0   0  82 450   0]\n",
      " [  0  24   0   0   0 513]]\n"
     ]
    }
   ],
   "source": [
    "from sklearn import metrics\n",
    "pred=model.predict(X_test)\n",
    "cm=metrics.confusion_matrix(np.argmax(Y_test,axis=1),np.argmax(pred,axis=1))\n",
    "print(\"Confusion Matrix\\n\\n\",cm)"
   ]
  },
  {
   "cell_type": "markdown",
   "metadata": {},
   "source": [
    "It is only confusing between standing and walking, rest all is working fine."
   ]
  },
  {
   "cell_type": "code",
   "execution_count": null,
   "metadata": {},
   "outputs": [],
   "source": []
  }
 ],
 "metadata": {
  "kernelspec": {
   "display_name": "Python 3",
   "language": "python",
   "name": "python3"
  },
  "language_info": {
   "codemirror_mode": {
    "name": "ipython",
    "version": 3
   },
   "file_extension": ".py",
   "mimetype": "text/x-python",
   "name": "python",
   "nbconvert_exporter": "python",
   "pygments_lexer": "ipython3",
   "version": "3.7.3"
  }
 },
 "nbformat": 4,
 "nbformat_minor": 2
}
